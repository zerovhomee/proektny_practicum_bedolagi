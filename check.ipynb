{
 "cells": [
  {
   "cell_type": "code",
   "execution_count": null,
   "metadata": {},
   "outputs": [],
   "source": [
    "import cv2\n",
    "from ultralytics import YOLO\n",
    "def process_live_feed_yolo(model, show_video=True):\n",
    "    cap = cv2.VideoCapture(0)\n",
    "    if not cap.isOpened():\n",
    "        raise Exception(\"Ошибка: Не удалось открыть веб-камеру.\")\n",
    "    fps = int(cap.get(cv2.CAP_PROP_FPS))\n",
    "    frame_width = int(cap.get(cv2.CAP_PROP_FRAME_WIDTH))\n",
    "    frame_height = int(cap.get(cv2.CAP_PROP_FRAME_HEIGHT))\n",
    "\n",
    "    while cap.isOpened():\n",
    "        success, frame = cap.read()\n",
    "        if success:\n",
    "            results = model.track(frame, persist=True, iou=0.65, conf=0.8,\n",
    "                                  tracker=\"botsort.yaml\", imgsz=640, verbose=False)\n",
    "            annotated_frame = results[0].plot()\n",
    "\n",
    "            if show_video:\n",
    "                annotated_frame = cv2.resize(annotated_frame, (annotated_frame.shape[1] * 2, annotated_frame.shape[0] * 2))\n",
    "                cv2.imshow(\"YOLOv8 Tracking\", annotated_frame)\n",
    "            if cv2.waitKey(1) & 0xFF == ord('q'):\n",
    "                break\n",
    "        else:\n",
    "            break\n",
    "    cap.release()\n",
    "    cv2.destroyAllWindows()\n",
    "model = YOLO('best.pt')\n",
    "process_live_feed_yolo(model, show_video=True)"
   ]
  }
 ],
 "metadata": {
  "kernelspec": {
   "display_name": "WORK",
   "language": "python",
   "name": "python3"
  },
  "language_info": {
   "codemirror_mode": {
    "name": "ipython",
    "version": 3
   },
   "file_extension": ".py",
   "mimetype": "text/x-python",
   "name": "python",
   "nbconvert_exporter": "python",
   "pygments_lexer": "ipython3",
   "version": "3.11.7"
  }
 },
 "nbformat": 4,
 "nbformat_minor": 2
}
